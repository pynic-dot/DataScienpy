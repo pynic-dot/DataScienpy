{
 "cells": [
  {
   "cell_type": "code",
   "execution_count": 24,
   "id": "37ed3b8d",
   "metadata": {},
   "outputs": [],
   "source": [
    "import numpy as np"
   ]
  },
  {
   "cell_type": "code",
   "execution_count": 25,
   "id": "5a58d122",
   "metadata": {},
   "outputs": [],
   "source": [
    "x = [1,2,3,4]\n",
    "y = [4,5,6,7]\n",
    "z = []"
   ]
  },
  {
   "cell_type": "code",
   "execution_count": 26,
   "id": "9f1c7df4",
   "metadata": {},
   "outputs": [],
   "source": [
    "for i,j in zip(x,y):\n",
    "    z.append(i+j)"
   ]
  },
  {
   "cell_type": "code",
   "execution_count": 27,
   "id": "ce1a8326",
   "metadata": {},
   "outputs": [
    {
     "name": "stdout",
     "output_type": "stream",
     "text": [
      "[5, 7, 9, 11]\n"
     ]
    }
   ],
   "source": [
    "print(z)"
   ]
  },
  {
   "cell_type": "code",
   "execution_count": 28,
   "id": "c6fc3340",
   "metadata": {},
   "outputs": [
    {
     "data": {
      "text/plain": [
       "array([ 5,  7,  9, 11])"
      ]
     },
     "execution_count": 28,
     "metadata": {},
     "output_type": "execute_result"
    }
   ],
   "source": [
    "np.add(x,y)"
   ]
  },
  {
   "cell_type": "code",
   "execution_count": 34,
   "id": "07e17a94",
   "metadata": {},
   "outputs": [],
   "source": [
    "x1 = np.arange(2,10)"
   ]
  },
  {
   "cell_type": "code",
   "execution_count": 37,
   "id": "5a6d1278",
   "metadata": {},
   "outputs": [],
   "source": [
    "x2 = np.arange(12,20)"
   ]
  },
  {
   "cell_type": "code",
   "execution_count": 38,
   "id": "394e190e",
   "metadata": {},
   "outputs": [],
   "source": [
    "def multiofTwo(x,y):\n",
    "    return x*y"
   ]
  },
  {
   "cell_type": "code",
   "execution_count": 30,
   "id": "d7df135e",
   "metadata": {},
   "outputs": [],
   "source": [
    "newmf=np.frompyfunc(multiofTwo,2, 1)"
   ]
  },
  {
   "cell_type": "code",
   "execution_count": 31,
   "id": "2851a3eb",
   "metadata": {},
   "outputs": [
    {
     "name": "stdout",
     "output_type": "stream",
     "text": [
      "<ufunc 'multiofTwo (vectorized)'>\n"
     ]
    }
   ],
   "source": [
    "print(newmf)"
   ]
  },
  {
   "cell_type": "code",
   "execution_count": 39,
   "id": "e50b55d8",
   "metadata": {},
   "outputs": [
    {
     "name": "stdout",
     "output_type": "stream",
     "text": [
      "[ 24  39  56  75  96 119 144 171]\n"
     ]
    }
   ],
   "source": [
    "print(multiofTwo(x1,x2))"
   ]
  },
  {
   "cell_type": "code",
   "execution_count": 44,
   "id": "27b485ac",
   "metadata": {},
   "outputs": [
    {
     "name": "stdout",
     "output_type": "stream",
     "text": [
      "<class 'numpy.ufunc'>\n"
     ]
    }
   ],
   "source": [
    "print(type(np.add))"
   ]
  },
  {
   "cell_type": "code",
   "execution_count": 46,
   "id": "6933caa5",
   "metadata": {},
   "outputs": [
    {
     "name": "stdout",
     "output_type": "stream",
     "text": [
      "<class 'function'>\n"
     ]
    }
   ],
   "source": [
    "print(type(np.concatenate))"
   ]
  },
  {
   "cell_type": "code",
   "execution_count": 49,
   "id": "b337688d",
   "metadata": {},
   "outputs": [
    {
     "data": {
      "text/plain": [
       "array([ 24,  39,  56,  75,  96, 119, 144, 171])"
      ]
     },
     "execution_count": 49,
     "metadata": {},
     "output_type": "execute_result"
    }
   ],
   "source": [
    "np.multiply(x1,x2)"
   ]
  },
  {
   "cell_type": "code",
   "execution_count": 50,
   "id": "6097f551",
   "metadata": {},
   "outputs": [
    {
     "data": {
      "text/plain": [
       "array([0.16666667, 0.23076923, 0.28571429, 0.33333333, 0.375     ,\n",
       "       0.41176471, 0.44444444, 0.47368421])"
      ]
     },
     "execution_count": 50,
     "metadata": {},
     "output_type": "execute_result"
    }
   ],
   "source": [
    "np.divide(x1,x2)"
   ]
  },
  {
   "cell_type": "code",
   "execution_count": 51,
   "id": "5474ff79",
   "metadata": {},
   "outputs": [
    {
     "data": {
      "text/plain": [
       "(array([0, 0, 0, 0, 0, 0, 0, 0], dtype=int32),\n",
       " array([2, 3, 4, 5, 6, 7, 8, 9], dtype=int32))"
      ]
     },
     "execution_count": 51,
     "metadata": {},
     "output_type": "execute_result"
    }
   ],
   "source": [
    "np.divmod(x1,x2)"
   ]
  },
  {
   "cell_type": "code",
   "execution_count": 52,
   "id": "7a01e8c3",
   "metadata": {},
   "outputs": [
    {
     "data": {
      "text/plain": [
       "array([2, 3, 4, 5, 6, 7, 8, 9], dtype=int32)"
      ]
     },
     "execution_count": 52,
     "metadata": {},
     "output_type": "execute_result"
    }
   ],
   "source": [
    "np.remainder(x1,x2)"
   ]
  },
  {
   "cell_type": "code",
   "execution_count": 53,
   "id": "493cf584",
   "metadata": {},
   "outputs": [
    {
     "data": {
      "text/plain": [
       "array([        144,        2197,       38416,      759375,    16777216,\n",
       "         410338673, -1864941312,   565150579], dtype=int32)"
      ]
     },
     "execution_count": 53,
     "metadata": {},
     "output_type": "execute_result"
    }
   ],
   "source": [
    "np.power(x2,x1)"
   ]
  },
  {
   "cell_type": "code",
   "execution_count": 54,
   "id": "41df2997",
   "metadata": {},
   "outputs": [
    {
     "data": {
      "text/plain": [
       "array([10, 10, 10, 10, 10, 10, 10, 10])"
      ]
     },
     "execution_count": 54,
     "metadata": {},
     "output_type": "execute_result"
    }
   ],
   "source": [
    "np.subtract(x2,x1)"
   ]
  },
  {
   "cell_type": "code",
   "execution_count": null,
   "id": "bb23ff30",
   "metadata": {},
   "outputs": [],
   "source": []
  }
 ],
 "metadata": {
  "kernelspec": {
   "display_name": "Python 3",
   "language": "python",
   "name": "python3"
  },
  "language_info": {
   "codemirror_mode": {
    "name": "ipython",
    "version": 3
   },
   "file_extension": ".py",
   "mimetype": "text/x-python",
   "name": "python",
   "nbconvert_exporter": "python",
   "pygments_lexer": "ipython3",
   "version": "3.9.4"
  }
 },
 "nbformat": 4,
 "nbformat_minor": 5
}
