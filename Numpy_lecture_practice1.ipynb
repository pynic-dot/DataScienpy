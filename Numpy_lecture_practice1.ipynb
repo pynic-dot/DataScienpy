{
 "cells": [
  {
   "cell_type": "code",
   "execution_count": 36,
   "id": "588a1547",
   "metadata": {},
   "outputs": [],
   "source": [
    "import numpy as np"
   ]
  },
  {
   "cell_type": "code",
   "execution_count": 37,
   "id": "48a76f3b",
   "metadata": {},
   "outputs": [],
   "source": [
    "arr1 = np.array([1,3,4])"
   ]
  },
  {
   "cell_type": "code",
   "execution_count": 38,
   "id": "bca602ee",
   "metadata": {},
   "outputs": [],
   "source": [
    "arr2 = np.array([5,6,7])"
   ]
  },
  {
   "cell_type": "code",
   "execution_count": 39,
   "id": "f6d816a7",
   "metadata": {},
   "outputs": [],
   "source": [
    "nw_arr = np.stack((arr1,arr2),axis=1)"
   ]
  },
  {
   "cell_type": "code",
   "execution_count": 42,
   "id": "02b90b27",
   "metadata": {},
   "outputs": [],
   "source": [
    "nw_arrh = np.hstack((arr1,arr2))"
   ]
  },
  {
   "cell_type": "code",
   "execution_count": 43,
   "id": "1cd5b65c",
   "metadata": {},
   "outputs": [
    {
     "data": {
      "text/plain": [
       "array([1, 3, 4, 5, 6, 7])"
      ]
     },
     "execution_count": 43,
     "metadata": {},
     "output_type": "execute_result"
    }
   ],
   "source": [
    "nw_arr1"
   ]
  },
  {
   "cell_type": "code",
   "execution_count": 44,
   "id": "61efa2ec",
   "metadata": {},
   "outputs": [],
   "source": [
    "nw_arrv = np.vstack((arr1,arr2))"
   ]
  },
  {
   "cell_type": "code",
   "execution_count": 45,
   "id": "5849ef11",
   "metadata": {},
   "outputs": [
    {
     "data": {
      "text/plain": [
       "array([[1, 3, 4],\n",
       "       [5, 6, 7]])"
      ]
     },
     "execution_count": 45,
     "metadata": {},
     "output_type": "execute_result"
    }
   ],
   "source": [
    "nw_arrv"
   ]
  },
  {
   "cell_type": "code",
   "execution_count": 46,
   "id": "46d18b22",
   "metadata": {},
   "outputs": [],
   "source": [
    "nw_arrd = np.dstack((arr1,arr2))"
   ]
  },
  {
   "cell_type": "code",
   "execution_count": 47,
   "id": "327c7e7a",
   "metadata": {},
   "outputs": [
    {
     "data": {
      "text/plain": [
       "array([[[1, 5],\n",
       "        [3, 6],\n",
       "        [4, 7]]])"
      ]
     },
     "execution_count": 47,
     "metadata": {},
     "output_type": "execute_result"
    }
   ],
   "source": [
    "nw_arrd"
   ]
  },
  {
   "cell_type": "code",
   "execution_count": null,
   "id": "8909120a",
   "metadata": {},
   "outputs": [],
   "source": []
  },
  {
   "cell_type": "code",
   "execution_count": null,
   "id": "45b009e2",
   "metadata": {},
   "outputs": [],
   "source": []
  },
  {
   "cell_type": "code",
   "execution_count": 30,
   "id": "1979e3cd",
   "metadata": {},
   "outputs": [],
   "source": [
    "arr1 = np.array([[0,12,14],[23,45,55]])"
   ]
  },
  {
   "cell_type": "code",
   "execution_count": 31,
   "id": "a553df42",
   "metadata": {},
   "outputs": [],
   "source": [
    "arr2 = np.array([[0,12,14],[23,45,55]])"
   ]
  },
  {
   "cell_type": "code",
   "execution_count": 32,
   "id": "0fe06017",
   "metadata": {},
   "outputs": [],
   "source": [
    "new_arr= np.concatenate((arr1,arr2),axis = 1)"
   ]
  },
  {
   "cell_type": "code",
   "execution_count": 33,
   "id": "9b87e146",
   "metadata": {},
   "outputs": [
    {
     "data": {
      "text/plain": [
       "array([[ 0, 12, 14,  0, 12, 14],\n",
       "       [23, 45, 55, 23, 45, 55]])"
      ]
     },
     "execution_count": 33,
     "metadata": {},
     "output_type": "execute_result"
    }
   ],
   "source": [
    "new_arr"
   ]
  },
  {
   "cell_type": "code",
   "execution_count": 48,
   "id": "c73396d1",
   "metadata": {},
   "outputs": [],
   "source": [
    "arrlist = np.array([1,2,4,5,6,7,8,0,3])"
   ]
  },
  {
   "cell_type": "code",
   "execution_count": 52,
   "id": "3d9f7ada",
   "metadata": {},
   "outputs": [
    {
     "data": {
      "text/plain": [
       "[array([1, 2, 4]), array([5, 6]), array([7, 8]), array([0, 3])]"
      ]
     },
     "execution_count": 52,
     "metadata": {},
     "output_type": "execute_result"
    }
   ],
   "source": [
    "np.array_split(arrlist, 4)"
   ]
  },
  {
   "cell_type": "code",
   "execution_count": 56,
   "id": "e849a3ec",
   "metadata": {},
   "outputs": [
    {
     "data": {
      "text/plain": [
       "[array([[1],\n",
       "        [3],\n",
       "        [6]]),\n",
       " array([[2],\n",
       "        [4],\n",
       "        [7]]),\n",
       " array([], shape=(3, 0), dtype=int32)]"
      ]
     },
     "execution_count": 56,
     "metadata": {},
     "output_type": "execute_result"
    }
   ],
   "source": [
    "np.array_split([[1,2],[3,4],[6,7]],3,axis=1)"
   ]
  },
  {
   "cell_type": "code",
   "execution_count": 57,
   "id": "ba42740c",
   "metadata": {},
   "outputs": [
    {
     "data": {
      "text/plain": [
       "(array([7], dtype=int64),)"
      ]
     },
     "execution_count": 57,
     "metadata": {},
     "output_type": "execute_result"
    }
   ],
   "source": [
    "np.where(arrlist == 0)"
   ]
  },
  {
   "cell_type": "code",
   "execution_count": 58,
   "id": "11c62924",
   "metadata": {},
   "outputs": [
    {
     "data": {
      "text/plain": [
       "(array([1, 2, 4, 6, 7], dtype=int64),)"
      ]
     },
     "execution_count": 58,
     "metadata": {},
     "output_type": "execute_result"
    }
   ],
   "source": [
    "np.where(arrlist%2 ==0)"
   ]
  },
  {
   "cell_type": "code",
   "execution_count": 67,
   "id": "152c063b",
   "metadata": {},
   "outputs": [],
   "source": [
    "arrlist.sort()"
   ]
  },
  {
   "cell_type": "code",
   "execution_count": 68,
   "id": "0a6a7369",
   "metadata": {},
   "outputs": [
    {
     "data": {
      "text/plain": [
       "array([0, 1, 2, 3, 4, 5, 6, 7, 8])"
      ]
     },
     "execution_count": 68,
     "metadata": {},
     "output_type": "execute_result"
    }
   ],
   "source": [
    "arrlist"
   ]
  },
  {
   "cell_type": "code",
   "execution_count": 66,
   "id": "93f76383",
   "metadata": {},
   "outputs": [
    {
     "data": {
      "text/plain": [
       "9"
      ]
     },
     "execution_count": 66,
     "metadata": {},
     "output_type": "execute_result"
    }
   ],
   "source": [
    "np.searchsorted(arrlist,11)"
   ]
  },
  {
   "cell_type": "code",
   "execution_count": 69,
   "id": "07e6dfac",
   "metadata": {},
   "outputs": [],
   "source": [
    "animal_name= np.array(['Zebra','Camel','Goat','Cow','Ambush','Modi'])"
   ]
  },
  {
   "cell_type": "code",
   "execution_count": 72,
   "id": "7ffcc066",
   "metadata": {},
   "outputs": [
    {
     "name": "stdout",
     "output_type": "stream",
     "text": [
      "['Ambush' 'Camel' 'Cow' 'Goat' 'Modi' 'Zebra']\n"
     ]
    }
   ],
   "source": [
    "print(np.sort(animal_name))"
   ]
  },
  {
   "cell_type": "code",
   "execution_count": 73,
   "id": "0b0e100d",
   "metadata": {},
   "outputs": [],
   "source": [
    "marks_arr = np.array([24,46,89,26,55,77,0,100])"
   ]
  },
  {
   "cell_type": "code",
   "execution_count": 74,
   "id": "e0723bbd",
   "metadata": {},
   "outputs": [],
   "source": [
    "check_con = marks_arr>26"
   ]
  },
  {
   "cell_type": "code",
   "execution_count": 79,
   "id": "9675335c",
   "metadata": {},
   "outputs": [],
   "source": [
    "new_arry = marks_arr[check_con]"
   ]
  },
  {
   "cell_type": "code",
   "execution_count": 81,
   "id": "8ab69418",
   "metadata": {},
   "outputs": [
    {
     "data": {
      "text/plain": [
       "array([ 46,  89,  55,  77, 100])"
      ]
     },
     "execution_count": 81,
     "metadata": {},
     "output_type": "execute_result"
    }
   ],
   "source": [
    "new_arry"
   ]
  },
  {
   "cell_type": "code",
   "execution_count": 82,
   "id": "dcacf37a",
   "metadata": {},
   "outputs": [
    {
     "data": {
      "text/plain": [
       "array([False,  True,  True, False,  True,  True, False,  True])"
      ]
     },
     "execution_count": 82,
     "metadata": {},
     "output_type": "execute_result"
    }
   ],
   "source": [
    "check_con\n"
   ]
  },
  {
   "cell_type": "code",
   "execution_count": null,
   "id": "4be49dda",
   "metadata": {},
   "outputs": [],
   "source": []
  }
 ],
 "metadata": {
  "kernelspec": {
   "display_name": "Python 3",
   "language": "python",
   "name": "python3"
  },
  "language_info": {
   "codemirror_mode": {
    "name": "ipython",
    "version": 3
   },
   "file_extension": ".py",
   "mimetype": "text/x-python",
   "name": "python",
   "nbconvert_exporter": "python",
   "pygments_lexer": "ipython3",
   "version": "3.9.4"
  }
 },
 "nbformat": 4,
 "nbformat_minor": 5
}
